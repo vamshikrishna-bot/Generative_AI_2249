{
  "nbformat": 4,
  "nbformat_minor": 0,
  "metadata": {
    "colab": {
      "provenance": [],
      "authorship_tag": "ABX9TyOECBn/Pb1J9IazQ1OH+02J",
      "include_colab_link": true
    },
    "kernelspec": {
      "name": "python3",
      "display_name": "Python 3"
    },
    "language_info": {
      "name": "python"
    }
  },
  "cells": [
    {
      "cell_type": "markdown",
      "metadata": {
        "id": "view-in-github",
        "colab_type": "text"
      },
      "source": [
        "<a href=\"https://colab.research.google.com/github/vamshikrishna-bot/Generative_AI_2249/blob/main/GAI_ASS_2.ipynb\" target=\"_parent\"><img src=\"https://colab.research.google.com/assets/colab-badge.svg\" alt=\"Open In Colab\"/></a>"
      ]
    },
    {
      "cell_type": "markdown",
      "source": [
        "1Q"
      ],
      "metadata": {
        "id": "Cn_clM-aUhsh"
      }
    },
    {
      "cell_type": "code",
      "execution_count": 6,
      "metadata": {
        "id": "i_pCT7wNJMcM",
        "colab": {
          "base_uri": "https://localhost:8080/"
        },
        "outputId": "a560f81e-2c9c-4c98-cb9f-b8d60e7ca1fa"
      },
      "outputs": [
        {
          "output_type": "stream",
          "name": "stdout",
          "text": [
            "no.of units of chocolata A:  2\n",
            "no.of units of chocolate B:  3\n",
            "Maximum profit: 27\n"
          ]
        }
      ],
      "source": [
        "from scipy.optimize import linprog\n",
        "import numpy as np\n",
        "\n",
        "obj=[-6,-5]\n",
        "A=[[1,1],[3,2]]\n",
        "B=[5,12]\n",
        "\n",
        "bnd=[(0,float(\"inf\")),(0,float(\"inf\"))]\n",
        "result=linprog(obj,A_ub=A,b_ub=B,bounds=bnd)\n",
        "\n",
        "\n",
        "print('no.of units of chocolata A: ',round(result.x[0]))\n",
        "print('no.of units of chocolate B: ',round(result.x[1]))\n",
        "print(\"Maximum profit:\", -round(result.fun))\n",
        "\n"
      ]
    },
    {
      "cell_type": "markdown",
      "source": [
        "2Q"
      ],
      "metadata": {
        "id": "Pcypnp6NUeqx"
      }
    },
    {
      "cell_type": "code",
      "source": [
        "from scipy.optimize import linprog\n",
        "import numpy as np\n",
        "\n",
        "obj=[-50,-120]\n",
        "A=[[7000,2000],[1,1],[10,30]]\n",
        "B=[700000,110,1200]\n",
        "\n",
        "bnd=[(0,float(\"inf\")),(0,float(\"inf\"))]\n",
        "result=linprog(obj,A_ub=A,b_ub=B,bounds=bnd)\n",
        "\n",
        "print('no.of Wheat A: ',round(result.x[0]))\n",
        "print('no.of Barley B: ',round(result.x[1]))\n",
        "print(\"Maximum profit:\", -round(result.fun))\n",
        "\n"
      ],
      "metadata": {
        "id": "5Ggq1liVVYAR",
        "colab": {
          "base_uri": "https://localhost:8080/"
        },
        "outputId": "77e6db0a-d68f-44ab-8639-566741ff2e34"
      },
      "execution_count": 7,
      "outputs": [
        {
          "output_type": "stream",
          "name": "stdout",
          "text": [
            "no.of Wheat A:  98\n",
            "no.of Barley B:  7\n",
            "Maximum profit: 5779\n"
          ]
        }
      ]
    }
  ]
}