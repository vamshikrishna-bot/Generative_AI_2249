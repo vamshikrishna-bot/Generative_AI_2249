{
  "nbformat": 4,
  "nbformat_minor": 0,
  "metadata": {
    "colab": {
      "provenance": [],
      "authorship_tag": "ABX9TyMS7EELFwQNWDN7+uoUNZv1",
      "include_colab_link": true
    },
    "kernelspec": {
      "name": "python3",
      "display_name": "Python 3"
    },
    "language_info": {
      "name": "python"
    }
  },
  "cells": [
    {
      "cell_type": "markdown",
      "metadata": {
        "id": "view-in-github",
        "colab_type": "text"
      },
      "source": [
        "<a href=\"https://colab.research.google.com/github/vamshikrishna-bot/Generative_AI_2249/blob/main/GAI_ASS_4.ipynb\" target=\"_parent\"><img src=\"https://colab.research.google.com/assets/colab-badge.svg\" alt=\"Open In Colab\"/></a>"
      ]
    },
    {
      "cell_type": "code",
      "execution_count": null,
      "metadata": {
        "id": "iEokwx1vYRNt",
        "colab": {
          "base_uri": "https://localhost:8080/"
        },
        "outputId": "135f7d86-efcf-4e49-b621-f3ff90c38958"
      },
      "outputs": [
        {
          "output_type": "stream",
          "name": "stdout",
          "text": [
            "Training MSE: 0.0410637151520936\n",
            "Testing MSE: 0.25240794443170567\n"
          ]
        }
      ],
      "source": [
        "import numpy as np\n",
        "\n",
        "X_train = np.array([\n",
        "    [0.1, 0.2, 0.3],\n",
        "    [0.2, 0.3, 0.4],\n",
        "    [0.3, 0.4, 0.5],\n",
        "    [0.5, 0.6, 0.7],\n",
        "    [0.1, 0.3, 0.5],\n",
        "    [0.2, 0.4, 0.6],\n",
        "    [0.3, 0.5, 0.7],\n",
        "    [0.4, 0.6, 0.8],\n",
        "    [0.5, 0.7, 0.1]\n",
        "])\n",
        "\n",
        "y_train = np.array([\n",
        "    [0.14],\n",
        "    [0.20],\n",
        "    [0.26],\n",
        "    [0.38],\n",
        "    [0.22],\n",
        "    [0.28],\n",
        "    [0.34],\n",
        "    [0.40],\n",
        "    [0.22]\n",
        "])\n",
        "\n",
        "X_test = np.array([\n",
        "    [0.6, 0.7, 0.8],\n",
        "    [0.7, 0.8, 0.9]\n",
        "])\n",
        "\n",
        "y_test = np.array([\n",
        "    [0.44],\n",
        "    [0.50]\n",
        "])\n",
        "\n",
        "W = np.random.randn(3, 1)\n",
        "b = np.random.randn(1)\n",
        "learning_rate = 0.01\n",
        "epochs = 1000\n",
        "\n",
        "def linear_activation(X, W, b):\n",
        "    return np.dot(X, W) + b\n",
        "\n",
        "def mse_loss(y_true, y_pred):\n",
        "    return np.mean((y_true - y_pred) ** 2)\n",
        "\n",
        "for epoch in range(epochs):\n",
        "    y_pred = linear_activation(X_train, W, b)\n",
        "    loss = mse_loss(y_train, y_pred)\n",
        "    dW = -(2 / X_train.shape[0]) * np.dot(X_train.T, (y_train - y_pred))\n",
        "    db = -(2 / X_train.shape[0]) * np.sum(y_train - y_pred)\n",
        "    W -= learning_rate * dW\n",
        "    b -= learning_rate * db\n",
        "\n",
        "y_train_pred = linear_activation(X_train, W, b)\n",
        "train_mse = mse_loss(y_train, y_train_pred)\n",
        "\n",
        "y_test_pred = linear_activation(X_test, W, b)\n",
        "test_mse = mse_loss(y_test, y_test_pred)\n",
        "\n",
        "print(f\"Training MSE: {train_mse}\")\n",
        "print(f\"Testing MSE: {test_mse}\")\n",
        "\n",
        "def predict(x1, x2, x3):\n",
        "    input_data = np.array([x1, x2, x3]).reshape(1, -1)\n",
        "    output = linear_activation(input_data, W, b)\n",
        "    return output[0][0]\n",
        "\n",
        "x1, x2, x3 = map(float, input(\"Enter values for x1, x2, x3: \").split())\n",
        "prediction = predict(x1, x2, x3)\n",
        "print(f\"Predicted output: {prediction}\")"
      ]
    },
    {
      "cell_type": "code",
      "source": [],
      "metadata": {
        "id": "h7wkyge22qfz"
      },
      "execution_count": null,
      "outputs": []
    }
  ]
}