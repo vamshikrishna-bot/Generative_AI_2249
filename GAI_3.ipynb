{
  "nbformat": 4,
  "nbformat_minor": 0,
  "metadata": {
    "colab": {
      "provenance": [],
      "authorship_tag": "ABX9TyOe/3rOcrAF81yIjEerJ9Td",
      "include_colab_link": true
    },
    "kernelspec": {
      "name": "python3",
      "display_name": "Python 3"
    },
    "language_info": {
      "name": "python"
    }
  },
  "cells": [
    {
      "cell_type": "markdown",
      "metadata": {
        "id": "view-in-github",
        "colab_type": "text"
      },
      "source": [
        "<a href=\"https://colab.research.google.com/github/vamshikrishna-bot/Generative_AI_2249/blob/main/GAI_3.ipynb\" target=\"_parent\"><img src=\"https://colab.research.google.com/assets/colab-badge.svg\" alt=\"Open In Colab\"/></a>"
      ]
    },
    {
      "cell_type": "code",
      "execution_count": 2,
      "metadata": {
        "colab": {
          "base_uri": "https://localhost:8080/"
        },
        "id": "7XbzcpfhWV3h",
        "outputId": "acd1601f-f962-4be3-c9f9-71dabc80ece3"
      },
      "outputs": [
        {
          "output_type": "stream",
          "name": "stdout",
          "text": [
            "minimum value: 5.963540395046457e-28\n"
          ]
        }
      ],
      "source": [
        "def f(x):\n",
        "  return 5 * x**4 + 3 * x**2 + 10\n",
        "\n",
        "def df(x):\n",
        "  return 20 * x**3 + 6 * x\n",
        "\n",
        "def gradient_descent(learning_rate=0.01, num_iterations=1000, initial_x=1):\n",
        "  x = initial_x\n",
        "  for _ in range(num_iterations):\n",
        "    gradient = df(x)\n",
        "    x = x - learning_rate * gradient\n",
        "  return x\n",
        "\n",
        "minimum_x = gradient_descent()\n",
        "\n",
        "print(\"minimum value:\", minimum_x)"
      ]
    },
    {
      "cell_type": "code",
      "source": [
        "import math\n",
        "\n",
        "def g(x, y):\n",
        "  return 3 * x**2 + 5 * math.exp(-y) + 10\n",
        "\n",
        "def dg_dx(x, y):\n",
        "  return 6 * x\n",
        "\n",
        "def dg_dy(x, y):\n",
        "  return -5 * math.exp(-y)\n",
        "\n",
        "def gradient_descent(learning_rate=0.01, num_iterations=1000, initial_x=1, initial_y=1):\n",
        "  x = initial_x\n",
        "  y = initial_y\n",
        "  for _ in range(num_iterations):\n",
        "    gradient_x = dg_dx(x, y)\n",
        "    gradient_y = dg_dy(x, y)\n",
        "    x = x - learning_rate * gradient_x\n",
        "    y = y - learning_rate * gradient_y\n",
        "  return x, y\n",
        "\n",
        "minimum_x, minimum_y = gradient_descent()\n",
        "\n",
        "print(\"minimum value of x:\", minimum_x)\n",
        "print(\"minimum value of y:\", minimum_y)\n",
        "print(\"minimum value of g(x,y):\", g(minimum_x, minimum_y))"
      ],
      "metadata": {
        "colab": {
          "base_uri": "https://localhost:8080/"
        },
        "id": "CSHmpSrKgGkA",
        "outputId": "dfed2879-4bf6-4038-df7a-97c5f6f95231"
      },
      "execution_count": 3,
      "outputs": [
        {
          "output_type": "stream",
          "name": "stdout",
          "text": [
            "minimum value of x: 1.3423123924933694e-27\n",
            "minimum value of y: 3.9663707936306642\n",
            "minimum value of g(x,y): 10.094710265808493\n"
          ]
        }
      ]
    },
    {
      "cell_type": "code",
      "source": [
        "import math\n",
        "\n",
        "def sigmoid(x):\n",
        "  return 1 / (1 + math.exp(-x))\n",
        "\n",
        "def sigmoid_derivative(x):\n",
        "  return sigmoid(x) * (1 - sigmoid(x))\n",
        "\n",
        "def gradient_descent(learning_rate=0.01, num_iterations=1000, initial_x=0):\n",
        "  x = initial_x\n",
        "  for _ in range(num_iterations):\n",
        "    gradient = sigmoid_derivative(x)\n",
        "    x = x - learning_rate * gradient\n",
        "  return x\n",
        "\n",
        "learning_rate = 0.1\n",
        "num_iterations = 10000\n",
        "initial_x = 0\n",
        "\n",
        "minimum_x = gradient_descent(learning_rate, num_iterations, initial_x)\n",
        "\n",
        "\n",
        "print(\"minimum value:\", minimum_x)"
      ],
      "metadata": {
        "colab": {
          "base_uri": "https://localhost:8080/"
        },
        "id": "foiOUnIxhrBB",
        "outputId": "db55e5ca-5280-4150-b04b-6a90c0a7cc1c"
      },
      "execution_count": 5,
      "outputs": [
        {
          "output_type": "stream",
          "name": "stdout",
          "text": [
            "minimum value: -6.894151508360375\n"
          ]
        }
      ]
    },
    {
      "cell_type": "code",
      "source": [],
      "metadata": {
        "id": "HNcIB_DXkvZw"
      },
      "execution_count": null,
      "outputs": []
    }
  ]
}